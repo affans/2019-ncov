{
 "cells": [
  {
   "cell_type": "markdown",
   "metadata": {},
   "source": [
    "# 2019-nCov Analysis, $R_0$ estimation\n",
    "### Affan Shoukat\n",
    "\n",
    "Analysis of the results from the `EpiEstim` package. "
   ]
  },
  {
   "cell_type": "code",
   "execution_count": 3,
   "metadata": {},
   "outputs": [
    {
     "data": {
      "text/plain": [
       "Plots.PyPlotBackend()"
      ]
     },
     "execution_count": 3,
     "metadata": {},
     "output_type": "execute_result"
    }
   ],
   "source": [
    "# load packages, read the data, and melt it into long format\n",
    "using Distributions, DataFrames, CSV, Query, VegaLite, LsqFit, Plots, PrettyTables, StatsPlots, Interpolations\n",
    "using Base.Iterators, Random\n",
    "pyplot()\n",
    "#PyPlot.svg(true)"
   ]
  },
  {
   "cell_type": "code",
   "execution_count": 35,
   "metadata": {},
   "outputs": [
    {
     "name": "stdout",
     "output_type": "stream",
     "text": [
      "┌\u001b[0m────────\u001b[0m┬\u001b[0m──────────────────\u001b[0m┬\u001b[0m──────────────────\u001b[0m┬\u001b[0m──────────────────\u001b[0m┐\u001b[0m\n",
      "│\u001b[0m\u001b[1m Col. 1 \u001b[0m│\u001b[0m\u001b[1m           Col. 2 \u001b[0m│\u001b[0m\u001b[1m           Col. 3 \u001b[0m│\u001b[0m\u001b[1m           Col. 4 \u001b[0m│\u001b[0m\n",
      "├\u001b[0m────────\u001b[0m┼\u001b[0m──────────────────\u001b[0m┼\u001b[0m──────────────────\u001b[0m┼\u001b[0m──────────────────\u001b[0m┤\u001b[0m\n",
      "│\u001b[0m   25.0 \u001b[0m│\u001b[0m 2.65055153101975 \u001b[0m│\u001b[0m  1.9247844873136 \u001b[0m│\u001b[0m 3.61424816551999 \u001b[0m│\u001b[0m\n",
      "│\u001b[0m   34.0 \u001b[0m│\u001b[0m 2.65028788537665 \u001b[0m│\u001b[0m 2.03623962249629 \u001b[0m│\u001b[0m 3.44972633964752 \u001b[0m│\u001b[0m\n",
      "│\u001b[0m   42.0 \u001b[0m│\u001b[0m 2.63624687789041 \u001b[0m│\u001b[0m 2.05868289595241 \u001b[0m│\u001b[0m 3.40262945002861 \u001b[0m│\u001b[0m\n",
      "│\u001b[0m   53.0 \u001b[0m│\u001b[0m 2.65596693760617 \u001b[0m│\u001b[0m 2.08804024216382 \u001b[0m│\u001b[0m 3.40906188543263 \u001b[0m│\u001b[0m\n",
      "└\u001b[0m────────\u001b[0m┴\u001b[0m──────────────────\u001b[0m┴\u001b[0m──────────────────\u001b[0m┴\u001b[0m──────────────────\u001b[0m┘\u001b[0m\n"
     ]
    }
   ],
   "source": [
    "rosumm = CSV.read(\"../data/ur80_rvalues_summary.csv\", datarow=2)\n",
    "rosumm |> @filter(_.t in [25, 34, 42, 53]) |> pretty_table"
   ]
  },
  {
   "cell_type": "code",
   "execution_count": 11,
   "metadata": {},
   "outputs": [
    {
     "name": "stdout",
     "output_type": "stream",
     "text": [
      "┌\u001b[0m───────\u001b[0m┬\u001b[0m─────────\u001b[0m┬\u001b[0m─────────\u001b[0m┬\u001b[0m─────────\u001b[0m┬\u001b[0m──────────────────\u001b[0m┐\u001b[0m\n",
      "│\u001b[0m\u001b[1m  time \u001b[0m│\u001b[0m\u001b[1m       m \u001b[0m│\u001b[0m\u001b[1m      md \u001b[0m│\u001b[0m\u001b[1m     qlo \u001b[0m│\u001b[0m\u001b[1m              qhi \u001b[0m│\u001b[0m\n",
      "│\u001b[0m\u001b[90m Int64 \u001b[0m│\u001b[0m\u001b[90m Float64 \u001b[0m│\u001b[0m\u001b[90m Float64 \u001b[0m│\u001b[0m\u001b[90m Float64 \u001b[0m│\u001b[0m\u001b[90m          Float64 \u001b[0m│\u001b[0m\n",
      "├\u001b[0m───────\u001b[0m┼\u001b[0m─────────\u001b[0m┼\u001b[0m─────────\u001b[0m┼\u001b[0m─────────\u001b[0m┼\u001b[0m──────────────────\u001b[0m┤\u001b[0m\n",
      "│\u001b[0m  14.0 \u001b[0m│\u001b[0m     0.0 \u001b[0m│\u001b[0m     0.0 \u001b[0m│\u001b[0m     0.0 \u001b[0m│\u001b[0m              0.0 \u001b[0m│\u001b[0m\n",
      "│\u001b[0m  15.0 \u001b[0m│\u001b[0m     0.0 \u001b[0m│\u001b[0m     0.0 \u001b[0m│\u001b[0m     0.0 \u001b[0m│\u001b[0m              0.0 \u001b[0m│\u001b[0m\n",
      "│\u001b[0m  16.0 \u001b[0m│\u001b[0m     0.0 \u001b[0m│\u001b[0m     0.0 \u001b[0m│\u001b[0m     0.0 \u001b[0m│\u001b[0m              0.0 \u001b[0m│\u001b[0m\n",
      "│\u001b[0m  17.0 \u001b[0m│\u001b[0m     0.0 \u001b[0m│\u001b[0m     0.0 \u001b[0m│\u001b[0m     0.0 \u001b[0m│\u001b[0m              0.0 \u001b[0m│\u001b[0m\n",
      "│\u001b[0m  18.0 \u001b[0m│\u001b[0m   0.992 \u001b[0m│\u001b[0m     1.0 \u001b[0m│\u001b[0m     0.0 \u001b[0m│\u001b[0m              3.0 \u001b[0m│\u001b[0m\n",
      "│\u001b[0m  19.0 \u001b[0m│\u001b[0m   1.024 \u001b[0m│\u001b[0m     1.0 \u001b[0m│\u001b[0m     0.0 \u001b[0m│\u001b[0m              4.0 \u001b[0m│\u001b[0m\n",
      "│\u001b[0m  20.0 \u001b[0m│\u001b[0m   0.994 \u001b[0m│\u001b[0m     1.0 \u001b[0m│\u001b[0m     0.0 \u001b[0m│\u001b[0m              3.0 \u001b[0m│\u001b[0m\n",
      "│\u001b[0m  21.0 \u001b[0m│\u001b[0m   0.944 \u001b[0m│\u001b[0m     1.0 \u001b[0m│\u001b[0m     0.0 \u001b[0m│\u001b[0m              3.0 \u001b[0m│\u001b[0m\n",
      "│\u001b[0m  22.0 \u001b[0m│\u001b[0m   0.966 \u001b[0m│\u001b[0m     1.0 \u001b[0m│\u001b[0m     0.0 \u001b[0m│\u001b[0m              3.0 \u001b[0m│\u001b[0m\n",
      "│\u001b[0m  23.0 \u001b[0m│\u001b[0m   1.052 \u001b[0m│\u001b[0m     1.0 \u001b[0m│\u001b[0m     0.0 \u001b[0m│\u001b[0m 3.52499999999998 \u001b[0m│\u001b[0m\n",
      "│\u001b[0m  24.0 \u001b[0m│\u001b[0m   0.994 \u001b[0m│\u001b[0m     1.0 \u001b[0m│\u001b[0m     0.0 \u001b[0m│\u001b[0m              3.0 \u001b[0m│\u001b[0m\n",
      "│\u001b[0m  25.0 \u001b[0m│\u001b[0m   0.988 \u001b[0m│\u001b[0m     1.0 \u001b[0m│\u001b[0m     0.0 \u001b[0m│\u001b[0m              3.0 \u001b[0m│\u001b[0m\n",
      "│\u001b[0m  26.0 \u001b[0m│\u001b[0m   1.952 \u001b[0m│\u001b[0m     2.0 \u001b[0m│\u001b[0m     0.0 \u001b[0m│\u001b[0m              5.0 \u001b[0m│\u001b[0m\n",
      "│\u001b[0m  27.0 \u001b[0m│\u001b[0m   1.998 \u001b[0m│\u001b[0m     2.0 \u001b[0m│\u001b[0m     0.0 \u001b[0m│\u001b[0m              5.0 \u001b[0m│\u001b[0m\n",
      "│\u001b[0m  28.0 \u001b[0m│\u001b[0m    1.97 \u001b[0m│\u001b[0m     2.0 \u001b[0m│\u001b[0m     0.0 \u001b[0m│\u001b[0m              5.0 \u001b[0m│\u001b[0m\n",
      "│\u001b[0m  29.0 \u001b[0m│\u001b[0m   2.006 \u001b[0m│\u001b[0m     2.0 \u001b[0m│\u001b[0m     0.0 \u001b[0m│\u001b[0m              5.0 \u001b[0m│\u001b[0m\n",
      "│\u001b[0m  30.0 \u001b[0m│\u001b[0m    2.88 \u001b[0m│\u001b[0m     3.0 \u001b[0m│\u001b[0m     0.0 \u001b[0m│\u001b[0m              7.0 \u001b[0m│\u001b[0m\n",
      "│\u001b[0m  31.0 \u001b[0m│\u001b[0m   2.898 \u001b[0m│\u001b[0m     3.0 \u001b[0m│\u001b[0m     0.0 \u001b[0m│\u001b[0m              7.0 \u001b[0m│\u001b[0m\n",
      "│\u001b[0m  32.0 \u001b[0m│\u001b[0m   3.048 \u001b[0m│\u001b[0m     3.0 \u001b[0m│\u001b[0m     0.0 \u001b[0m│\u001b[0m              7.0 \u001b[0m│\u001b[0m\n",
      "│\u001b[0m  33.0 \u001b[0m│\u001b[0m   3.878 \u001b[0m│\u001b[0m     4.0 \u001b[0m│\u001b[0m     0.0 \u001b[0m│\u001b[0m              9.0 \u001b[0m│\u001b[0m\n",
      "│\u001b[0m  34.0 \u001b[0m│\u001b[0m    5.04 \u001b[0m│\u001b[0m     5.0 \u001b[0m│\u001b[0m     1.0 \u001b[0m│\u001b[0m             10.0 \u001b[0m│\u001b[0m\n",
      "│\u001b[0m  35.0 \u001b[0m│\u001b[0m   5.132 \u001b[0m│\u001b[0m     5.0 \u001b[0m│\u001b[0m     1.0 \u001b[0m│\u001b[0m             11.0 \u001b[0m│\u001b[0m\n",
      "│\u001b[0m  36.0 \u001b[0m│\u001b[0m    6.04 \u001b[0m│\u001b[0m     6.0 \u001b[0m│\u001b[0m     2.0 \u001b[0m│\u001b[0m             11.0 \u001b[0m│\u001b[0m\n",
      "│\u001b[0m  37.0 \u001b[0m│\u001b[0m     7.0 \u001b[0m│\u001b[0m     7.0 \u001b[0m│\u001b[0m   2.475 \u001b[0m│\u001b[0m             13.0 \u001b[0m│\u001b[0m\n",
      "│\u001b[0m  38.0 \u001b[0m│\u001b[0m   8.116 \u001b[0m│\u001b[0m     8.0 \u001b[0m│\u001b[0m     3.0 \u001b[0m│\u001b[0m             15.0 \u001b[0m│\u001b[0m\n",
      "│\u001b[0m  39.0 \u001b[0m│\u001b[0m   9.128 \u001b[0m│\u001b[0m     9.0 \u001b[0m│\u001b[0m     3.0 \u001b[0m│\u001b[0m           15.525 \u001b[0m│\u001b[0m\n",
      "│\u001b[0m  40.0 \u001b[0m│\u001b[0m  10.204 \u001b[0m│\u001b[0m    10.0 \u001b[0m│\u001b[0m     4.0 \u001b[0m│\u001b[0m             18.0 \u001b[0m│\u001b[0m\n",
      "│\u001b[0m  41.0 \u001b[0m│\u001b[0m  12.256 \u001b[0m│\u001b[0m    12.0 \u001b[0m│\u001b[0m     5.0 \u001b[0m│\u001b[0m             21.0 \u001b[0m│\u001b[0m\n",
      "│\u001b[0m  42.0 \u001b[0m│\u001b[0m  13.112 \u001b[0m│\u001b[0m    13.0 \u001b[0m│\u001b[0m     6.0 \u001b[0m│\u001b[0m             23.0 \u001b[0m│\u001b[0m\n",
      "│\u001b[0m  43.0 \u001b[0m│\u001b[0m  15.188 \u001b[0m│\u001b[0m    15.0 \u001b[0m│\u001b[0m     6.0 \u001b[0m│\u001b[0m             27.0 \u001b[0m│\u001b[0m\n",
      "│\u001b[0m  44.0 \u001b[0m│\u001b[0m  16.994 \u001b[0m│\u001b[0m    16.0 \u001b[0m│\u001b[0m     7.0 \u001b[0m│\u001b[0m             32.0 \u001b[0m│\u001b[0m\n",
      "│\u001b[0m  45.0 \u001b[0m│\u001b[0m  19.374 \u001b[0m│\u001b[0m    19.0 \u001b[0m│\u001b[0m     8.0 \u001b[0m│\u001b[0m             36.0 \u001b[0m│\u001b[0m\n",
      "│\u001b[0m  46.0 \u001b[0m│\u001b[0m  23.576 \u001b[0m│\u001b[0m    22.5 \u001b[0m│\u001b[0m    11.0 \u001b[0m│\u001b[0m             42.0 \u001b[0m│\u001b[0m\n",
      "│\u001b[0m  47.0 \u001b[0m│\u001b[0m  25.842 \u001b[0m│\u001b[0m    25.0 \u001b[0m│\u001b[0m  10.475 \u001b[0m│\u001b[0m             46.0 \u001b[0m│\u001b[0m\n",
      "│\u001b[0m  48.0 \u001b[0m│\u001b[0m  30.676 \u001b[0m│\u001b[0m    29.0 \u001b[0m│\u001b[0m    13.0 \u001b[0m│\u001b[0m            54.05 \u001b[0m│\u001b[0m\n",
      "│\u001b[0m  49.0 \u001b[0m│\u001b[0m  34.284 \u001b[0m│\u001b[0m    32.5 \u001b[0m│\u001b[0m    14.0 \u001b[0m│\u001b[0m           62.525 \u001b[0m│\u001b[0m\n",
      "│\u001b[0m  50.0 \u001b[0m│\u001b[0m   38.88 \u001b[0m│\u001b[0m    37.0 \u001b[0m│\u001b[0m    17.0 \u001b[0m│\u001b[0m             68.0 \u001b[0m│\u001b[0m\n",
      "│\u001b[0m  51.0 \u001b[0m│\u001b[0m  44.648 \u001b[0m│\u001b[0m    42.0 \u001b[0m│\u001b[0m    18.0 \u001b[0m│\u001b[0m           83.525 \u001b[0m│\u001b[0m\n",
      "│\u001b[0m  52.0 \u001b[0m│\u001b[0m  50.552 \u001b[0m│\u001b[0m    48.0 \u001b[0m│\u001b[0m    20.0 \u001b[0m│\u001b[0m             89.0 \u001b[0m│\u001b[0m\n",
      "│\u001b[0m  53.0 \u001b[0m│\u001b[0m  57.466 \u001b[0m│\u001b[0m    54.0 \u001b[0m│\u001b[0m  25.475 \u001b[0m│\u001b[0m           106.05 \u001b[0m│\u001b[0m\n",
      "│\u001b[0m  54.0 \u001b[0m│\u001b[0m  67.682 \u001b[0m│\u001b[0m    65.0 \u001b[0m│\u001b[0m    29.0 \u001b[0m│\u001b[0m            120.0 \u001b[0m│\u001b[0m\n",
      "│\u001b[0m  55.0 \u001b[0m│\u001b[0m   79.23 \u001b[0m│\u001b[0m    75.0 \u001b[0m│\u001b[0m    33.0 \u001b[0m│\u001b[0m          147.575 \u001b[0m│\u001b[0m\n",
      "│\u001b[0m  56.0 \u001b[0m│\u001b[0m  88.366 \u001b[0m│\u001b[0m    84.0 \u001b[0m│\u001b[0m  36.475 \u001b[0m│\u001b[0m          163.625 \u001b[0m│\u001b[0m\n",
      "│\u001b[0m  57.0 \u001b[0m│\u001b[0m  99.052 \u001b[0m│\u001b[0m    95.0 \u001b[0m│\u001b[0m  38.475 \u001b[0m│\u001b[0m            174.0 \u001b[0m│\u001b[0m\n",
      "│\u001b[0m  58.0 \u001b[0m│\u001b[0m 115.718 \u001b[0m│\u001b[0m   112.0 \u001b[0m│\u001b[0m  49.475 \u001b[0m│\u001b[0m          206.575 \u001b[0m│\u001b[0m\n",
      "│\u001b[0m  59.0 \u001b[0m│\u001b[0m 129.562 \u001b[0m│\u001b[0m   122.0 \u001b[0m│\u001b[0m    49.0 \u001b[0m│\u001b[0m            244.0 \u001b[0m│\u001b[0m\n",
      "│\u001b[0m  60.0 \u001b[0m│\u001b[0m 147.716 \u001b[0m│\u001b[0m   144.0 \u001b[0m│\u001b[0m    53.0 \u001b[0m│\u001b[0m           260.05 \u001b[0m│\u001b[0m\n",
      "│\u001b[0m  61.0 \u001b[0m│\u001b[0m  168.63 \u001b[0m│\u001b[0m   163.0 \u001b[0m│\u001b[0m  73.475 \u001b[0m│\u001b[0m            311.1 \u001b[0m│\u001b[0m\n",
      "│\u001b[0m  62.0 \u001b[0m│\u001b[0m 194.154 \u001b[0m│\u001b[0m   188.5 \u001b[0m│\u001b[0m   86.95 \u001b[0m│\u001b[0m           363.05 \u001b[0m│\u001b[0m\n",
      "│\u001b[0m  63.0 \u001b[0m│\u001b[0m  215.92 \u001b[0m│\u001b[0m   207.0 \u001b[0m│\u001b[0m   90.95 \u001b[0m│\u001b[0m          401.625 \u001b[0m│\u001b[0m\n",
      "│\u001b[0m  64.0 \u001b[0m│\u001b[0m 259.906 \u001b[0m│\u001b[0m   253.0 \u001b[0m│\u001b[0m   104.9 \u001b[0m│\u001b[0m          465.725 \u001b[0m│\u001b[0m\n",
      "│\u001b[0m  65.0 \u001b[0m│\u001b[0m 286.346 \u001b[0m│\u001b[0m   280.5 \u001b[0m│\u001b[0m 113.475 \u001b[0m│\u001b[0m           489.05 \u001b[0m│\u001b[0m\n",
      "│\u001b[0m  66.0 \u001b[0m│\u001b[0m  326.69 \u001b[0m│\u001b[0m   311.0 \u001b[0m│\u001b[0m 141.375 \u001b[0m│\u001b[0m          586.525 \u001b[0m│\u001b[0m\n",
      "│\u001b[0m  67.0 \u001b[0m│\u001b[0m 372.446 \u001b[0m│\u001b[0m   352.5 \u001b[0m│\u001b[0m   167.0 \u001b[0m│\u001b[0m 684.649999999999 \u001b[0m│\u001b[0m\n",
      "│\u001b[0m  68.0 \u001b[0m│\u001b[0m 427.084 \u001b[0m│\u001b[0m   400.0 \u001b[0m│\u001b[0m   187.8 \u001b[0m│\u001b[0m            778.1 \u001b[0m│\u001b[0m\n",
      "│\u001b[0m  69.0 \u001b[0m│\u001b[0m 490.642 \u001b[0m│\u001b[0m   477.0 \u001b[0m│\u001b[0m 204.475 \u001b[0m│\u001b[0m          845.725 \u001b[0m│\u001b[0m\n",
      "│\u001b[0m  70.0 \u001b[0m│\u001b[0m  572.33 \u001b[0m│\u001b[0m   558.0 \u001b[0m│\u001b[0m   241.8 \u001b[0m│\u001b[0m          1013.15 \u001b[0m│\u001b[0m\n",
      "│\u001b[0m  71.0 \u001b[0m│\u001b[0m 650.402 \u001b[0m│\u001b[0m   625.5 \u001b[0m│\u001b[0m   283.0 \u001b[0m│\u001b[0m         1262.575 \u001b[0m│\u001b[0m\n",
      "│\u001b[0m  72.0 \u001b[0m│\u001b[0m  753.49 \u001b[0m│\u001b[0m   720.5 \u001b[0m│\u001b[0m   282.9 \u001b[0m│\u001b[0m          1383.15 \u001b[0m│\u001b[0m\n",
      "└\u001b[0m───────\u001b[0m┴\u001b[0m─────────\u001b[0m┴\u001b[0m─────────\u001b[0m┴\u001b[0m─────────\u001b[0m┴\u001b[0m──────────────────\u001b[0m┘\u001b[0m\n"
     ]
    }
   ],
   "source": [
    "inc = CSV.read(\"../data/baseline_incidence.csv\", datarow=2)\n",
    "pretty_table(inc, crop=:none)"
   ]
  },
  {
   "cell_type": "code",
   "execution_count": 41,
   "metadata": {},
   "outputs": [
    {
     "name": "stdout",
     "output_type": "stream",
     "text": [
      "29623.396\n",
      "24372.975\n",
      "34859.725\n"
     ]
    }
   ],
   "source": [
    "finalsize = CSV.read(\"../data/ur80_finalsize.csv\", datarow=2)\n",
    "\n",
    "println(mean(finalsize[:, Symbol(\"final.size\")]))\n",
    "println(quantile(finalsize[:, Symbol(\"final.size\")], 0.025))\n",
    "println(quantile(finalsize[:, Symbol(\"final.size\")], 0.975))"
   ]
  },
  {
   "cell_type": "code",
   "execution_count": 16,
   "metadata": {},
   "outputs": [
    {
     "name": "stdout",
     "output_type": "stream",
     "text": [
      "4939.0\n",
      "7100.674999999999\n"
     ]
    }
   ],
   "source": []
  },
  {
   "cell_type": "code",
   "execution_count": null,
   "metadata": {},
   "outputs": [],
   "source": []
  }
 ],
 "metadata": {
  "kernelspec": {
   "display_name": "Julia 1.3.0",
   "language": "julia",
   "name": "julia-1.3"
  },
  "language_info": {
   "file_extension": ".jl",
   "mimetype": "application/julia",
   "name": "julia",
   "version": "1.3.0"
  }
 },
 "nbformat": 4,
 "nbformat_minor": 4
}
