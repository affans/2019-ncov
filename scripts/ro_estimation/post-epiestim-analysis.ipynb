{
 "cells": [
  {
   "cell_type": "markdown",
   "metadata": {},
   "source": [
    "# 2019-nCov Analysis, $R_0$ estimation\n",
    "### Affan Shoukat\n",
    "\n",
    "Analysis of the results from the `EpiEstim` package. After the `epi-estim-analysis.R` file is run, this script can be used to read the saved files and summarize the data. This can be done in any programming language, since it's just reading data."
   ]
  },
  {
   "cell_type": "code",
   "execution_count": 2,
   "metadata": {},
   "outputs": [
    {
     "data": {
      "text/plain": [
       "Plots.PyPlotBackend()"
      ]
     },
     "execution_count": 2,
     "metadata": {},
     "output_type": "execute_result"
    }
   ],
   "source": [
    "# load packages, read the data, and melt it into long format\n",
    "using Distributions, DataFrames, CSV, Query, VegaLite, LsqFit, Plots, PrettyTables, StatsPlots, Interpolations\n",
    "using Base.Iterators, Random\n",
    "pyplot()\n",
    "#PyPlot.svg(true)"
   ]
  },
  {
   "cell_type": "code",
   "execution_count": 25,
   "metadata": {},
   "outputs": [
    {
     "name": "stdout",
     "output_type": "stream",
     "text": [
      "┌\u001b[0m───────\u001b[0m┬\u001b[0m─────────\u001b[0m┬\u001b[0m─────────\u001b[0m┬\u001b[0m─────────\u001b[0m┐\u001b[0m\n",
      "│\u001b[0m\u001b[1m  time \u001b[0m│\u001b[0m\u001b[1m   rmean \u001b[0m│\u001b[0m\u001b[1m    rlow \u001b[0m│\u001b[0m\u001b[1m     Rhi \u001b[0m│\u001b[0m\n",
      "│\u001b[0m\u001b[90m Int64 \u001b[0m│\u001b[0m\u001b[90m Float64 \u001b[0m│\u001b[0m\u001b[90m Float64 \u001b[0m│\u001b[0m\u001b[90m Float64 \u001b[0m│\u001b[0m\n",
      "├\u001b[0m───────\u001b[0m┼\u001b[0m─────────\u001b[0m┼\u001b[0m─────────\u001b[0m┼\u001b[0m─────────\u001b[0m┤\u001b[0m\n",
      "│\u001b[0m  29.0 \u001b[0m│\u001b[0m    2.66 \u001b[0m│\u001b[0m    1.78 \u001b[0m│\u001b[0m    3.82 \u001b[0m│\u001b[0m\n",
      "│\u001b[0m  39.0 \u001b[0m│\u001b[0m    2.53 \u001b[0m│\u001b[0m     1.9 \u001b[0m│\u001b[0m    3.35 \u001b[0m│\u001b[0m\n",
      "│\u001b[0m  46.0 \u001b[0m│\u001b[0m    2.51 \u001b[0m│\u001b[0m    1.97 \u001b[0m│\u001b[0m    3.23 \u001b[0m│\u001b[0m\n",
      "│\u001b[0m  53.0 \u001b[0m│\u001b[0m     2.5 \u001b[0m│\u001b[0m    1.99 \u001b[0m│\u001b[0m    3.18 \u001b[0m│\u001b[0m\n",
      "│\u001b[0m  60.0 \u001b[0m│\u001b[0m    2.48 \u001b[0m│\u001b[0m    1.99 \u001b[0m│\u001b[0m    3.12 \u001b[0m│\u001b[0m\n",
      "│\u001b[0m  64.0 \u001b[0m│\u001b[0m     2.5 \u001b[0m│\u001b[0m    2.01 \u001b[0m│\u001b[0m    3.15 \u001b[0m│\u001b[0m\n",
      "└\u001b[0m───────\u001b[0m┴\u001b[0m─────────\u001b[0m┴\u001b[0m─────────\u001b[0m┴\u001b[0m─────────\u001b[0m┘\u001b[0m\n",
      "┌\u001b[0m───────\u001b[0m┬\u001b[0m─────────\u001b[0m┬\u001b[0m─────────\u001b[0m┬\u001b[0m─────────\u001b[0m┐\u001b[0m\n",
      "│\u001b[0m\u001b[1m  time \u001b[0m│\u001b[0m\u001b[1m   rmean \u001b[0m│\u001b[0m\u001b[1m    rlow \u001b[0m│\u001b[0m\u001b[1m     Rhi \u001b[0m│\u001b[0m\n",
      "│\u001b[0m\u001b[90m Int64 \u001b[0m│\u001b[0m\u001b[90m Float64 \u001b[0m│\u001b[0m\u001b[90m Float64 \u001b[0m│\u001b[0m\u001b[90m Float64 \u001b[0m│\u001b[0m\n",
      "├\u001b[0m───────\u001b[0m┼\u001b[0m─────────\u001b[0m┼\u001b[0m─────────\u001b[0m┼\u001b[0m─────────\u001b[0m┤\u001b[0m\n",
      "│\u001b[0m  29.0 \u001b[0m│\u001b[0m    2.57 \u001b[0m│\u001b[0m    1.76 \u001b[0m│\u001b[0m    3.64 \u001b[0m│\u001b[0m\n",
      "│\u001b[0m  39.0 \u001b[0m│\u001b[0m    2.53 \u001b[0m│\u001b[0m    1.93 \u001b[0m│\u001b[0m    3.33 \u001b[0m│\u001b[0m\n",
      "│\u001b[0m  46.0 \u001b[0m│\u001b[0m    2.53 \u001b[0m│\u001b[0m    1.98 \u001b[0m│\u001b[0m    3.25 \u001b[0m│\u001b[0m\n",
      "│\u001b[0m  53.0 \u001b[0m│\u001b[0m     2.5 \u001b[0m│\u001b[0m    1.99 \u001b[0m│\u001b[0m    3.19 \u001b[0m│\u001b[0m\n",
      "│\u001b[0m  60.0 \u001b[0m│\u001b[0m    2.49 \u001b[0m│\u001b[0m     2.0 \u001b[0m│\u001b[0m    3.16 \u001b[0m│\u001b[0m\n",
      "│\u001b[0m  64.0 \u001b[0m│\u001b[0m    2.52 \u001b[0m│\u001b[0m    2.01 \u001b[0m│\u001b[0m    3.19 \u001b[0m│\u001b[0m\n",
      "└\u001b[0m───────\u001b[0m┴\u001b[0m─────────\u001b[0m┴\u001b[0m─────────\u001b[0m┴\u001b[0m─────────\u001b[0m┘\u001b[0m\n",
      "┌\u001b[0m───────\u001b[0m┬\u001b[0m─────────\u001b[0m┬\u001b[0m─────────\u001b[0m┬\u001b[0m─────────\u001b[0m┐\u001b[0m\n",
      "│\u001b[0m\u001b[1m  time \u001b[0m│\u001b[0m\u001b[1m   rmean \u001b[0m│\u001b[0m\u001b[1m    rlow \u001b[0m│\u001b[0m\u001b[1m     Rhi \u001b[0m│\u001b[0m\n",
      "│\u001b[0m\u001b[90m Int64 \u001b[0m│\u001b[0m\u001b[90m Float64 \u001b[0m│\u001b[0m\u001b[90m Float64 \u001b[0m│\u001b[0m\u001b[90m Float64 \u001b[0m│\u001b[0m\n",
      "├\u001b[0m───────\u001b[0m┼\u001b[0m─────────\u001b[0m┼\u001b[0m─────────\u001b[0m┼\u001b[0m─────────\u001b[0m┤\u001b[0m\n",
      "│\u001b[0m  29.0 \u001b[0m│\u001b[0m    2.53 \u001b[0m│\u001b[0m    1.94 \u001b[0m│\u001b[0m    3.33 \u001b[0m│\u001b[0m\n",
      "│\u001b[0m  39.0 \u001b[0m│\u001b[0m    2.52 \u001b[0m│\u001b[0m    1.99 \u001b[0m│\u001b[0m    3.23 \u001b[0m│\u001b[0m\n",
      "│\u001b[0m  46.0 \u001b[0m│\u001b[0m    2.47 \u001b[0m│\u001b[0m    1.98 \u001b[0m│\u001b[0m    3.14 \u001b[0m│\u001b[0m\n",
      "│\u001b[0m  53.0 \u001b[0m│\u001b[0m    2.52 \u001b[0m│\u001b[0m    2.02 \u001b[0m│\u001b[0m     3.2 \u001b[0m│\u001b[0m\n",
      "│\u001b[0m  60.0 \u001b[0m│\u001b[0m     2.5 \u001b[0m│\u001b[0m    2.01 \u001b[0m│\u001b[0m    3.19 \u001b[0m│\u001b[0m\n",
      "│\u001b[0m  64.0 \u001b[0m│\u001b[0m     2.5 \u001b[0m│\u001b[0m    2.01 \u001b[0m│\u001b[0m    3.18 \u001b[0m│\u001b[0m\n",
      "└\u001b[0m───────\u001b[0m┴\u001b[0m─────────\u001b[0m┴\u001b[0m─────────\u001b[0m┴\u001b[0m─────────\u001b[0m┘\u001b[0m\n",
      "┌\u001b[0m───────\u001b[0m┬\u001b[0m─────────\u001b[0m┬\u001b[0m─────────\u001b[0m┬\u001b[0m─────────\u001b[0m┐\u001b[0m\n",
      "│\u001b[0m\u001b[1m  time \u001b[0m│\u001b[0m\u001b[1m   rmean \u001b[0m│\u001b[0m\u001b[1m    rlow \u001b[0m│\u001b[0m\u001b[1m     Rhi \u001b[0m│\u001b[0m\n",
      "│\u001b[0m\u001b[90m Int64 \u001b[0m│\u001b[0m\u001b[90m Float64 \u001b[0m│\u001b[0m\u001b[90m Float64 \u001b[0m│\u001b[0m\u001b[90m Float64 \u001b[0m│\u001b[0m\n",
      "├\u001b[0m───────\u001b[0m┼\u001b[0m─────────\u001b[0m┼\u001b[0m─────────\u001b[0m┼\u001b[0m─────────\u001b[0m┤\u001b[0m\n",
      "│\u001b[0m  29.0 \u001b[0m│\u001b[0m    2.49 \u001b[0m│\u001b[0m    1.95 \u001b[0m│\u001b[0m     3.2 \u001b[0m│\u001b[0m\n",
      "│\u001b[0m  39.0 \u001b[0m│\u001b[0m    2.51 \u001b[0m│\u001b[0m     2.0 \u001b[0m│\u001b[0m    3.19 \u001b[0m│\u001b[0m\n",
      "│\u001b[0m  46.0 \u001b[0m│\u001b[0m    2.47 \u001b[0m│\u001b[0m    1.99 \u001b[0m│\u001b[0m    3.12 \u001b[0m│\u001b[0m\n",
      "│\u001b[0m  53.0 \u001b[0m│\u001b[0m    2.51 \u001b[0m│\u001b[0m    2.02 \u001b[0m│\u001b[0m    3.18 \u001b[0m│\u001b[0m\n",
      "│\u001b[0m  60.0 \u001b[0m│\u001b[0m    2.51 \u001b[0m│\u001b[0m    2.01 \u001b[0m│\u001b[0m    3.18 \u001b[0m│\u001b[0m\n",
      "│\u001b[0m  64.0 \u001b[0m│\u001b[0m     2.5 \u001b[0m│\u001b[0m    2.01 \u001b[0m│\u001b[0m    3.16 \u001b[0m│\u001b[0m\n",
      "└\u001b[0m───────\u001b[0m┴\u001b[0m─────────\u001b[0m┴\u001b[0m─────────\u001b[0m┴\u001b[0m─────────\u001b[0m┘\u001b[0m\n"
     ]
    }
   ],
   "source": [
    "rosumm = CSV.read(\"../data/results_feb6_paperv2/baseline_rvalues_summary.csv\", datarow=2, header=[\"time\", \"Rmean\", \"Rlow\", \"Rhi\"])\n",
    "aa = rosumm |> @filter(_.time in [29, 39, 46, 53, 60, 64]) |> @map({_.time, rmean = round(_.Rmean, digits=2), rlow = round(_.Rlow, digits=2), Rhi = round(_.Rhi, digits=2)}) |> DataFrame\n",
    "pretty_table(aa, crop=:none)\n",
    "\n",
    "rosumm = CSV.read(\"../data/results_feb6_paperv2/ur20_rvalues_summary.csv\", datarow=2, header=[\"time\", \"Rmean\", \"Rlow\", \"Rhi\"])\n",
    "aa = rosumm |> @filter(_.time in [29, 39, 46, 53, 60, 64]) |> @map({_.time, rmean = round(_.Rmean, digits=2), rlow = round(_.Rlow, digits=2), Rhi = round(_.Rhi, digits=2)}) |> DataFrame\n",
    "pretty_table(aa, crop=:none)\n",
    "\n",
    "rosumm = CSV.read(\"../data/results_feb6_paperv2/ur50_rvalues_summary.csv\", datarow=2, header=[\"time\", \"Rmean\", \"Rlow\", \"Rhi\"])\n",
    "aa = rosumm |> @filter(_.time in [29, 39, 46, 53, 60, 64]) |> @map({_.time, rmean = round(_.Rmean, digits=2), rlow = round(_.Rlow, digits=2), Rhi = round(_.Rhi, digits=2)}) |> DataFrame\n",
    "pretty_table(aa, crop=:none)\n",
    "\n",
    "rosumm = CSV.read(\"../data/results_feb6_paperv2/ur90_rvalues_summary.csv\", datarow=2, header=[\"time\", \"Rmean\", \"Rlow\", \"Rhi\"])\n",
    "aa = rosumm |> @filter(_.time in [29, 39, 46, 53, 60, 64]) |> @map({_.time, rmean = round(_.Rmean, digits=2), rlow = round(_.Rlow, digits=2), Rhi = round(_.Rhi, digits=2)}) |> DataFrame\n",
    "pretty_table(aa, crop=:none)\n",
    "\n",
    "\n",
    "#december 29, january 8, january 22 feb 8\n",
    "    "
   ]
  },
  {
   "cell_type": "code",
   "execution_count": 7,
   "metadata": {},
   "outputs": [
    {
     "name": "stdout",
     "output_type": "stream",
     "text": [
      "┌\u001b[0m───────\u001b[0m┬\u001b[0m─────────\u001b[0m┬\u001b[0m─────────\u001b[0m┬\u001b[0m─────────\u001b[0m┬\u001b[0m──────────────────\u001b[0m┐\u001b[0m\n",
      "│\u001b[0m\u001b[1m  time \u001b[0m│\u001b[0m\u001b[1m       m \u001b[0m│\u001b[0m\u001b[1m      md \u001b[0m│\u001b[0m\u001b[1m     qlo \u001b[0m│\u001b[0m\u001b[1m              qhi \u001b[0m│\u001b[0m\n",
      "│\u001b[0m\u001b[90m Int64 \u001b[0m│\u001b[0m\u001b[90m Float64 \u001b[0m│\u001b[0m\u001b[90m Float64 \u001b[0m│\u001b[0m\u001b[90m Float64 \u001b[0m│\u001b[0m\u001b[90m          Float64 \u001b[0m│\u001b[0m\n",
      "├\u001b[0m───────\u001b[0m┼\u001b[0m─────────\u001b[0m┼\u001b[0m─────────\u001b[0m┼\u001b[0m─────────\u001b[0m┼\u001b[0m──────────────────\u001b[0m┤\u001b[0m\n",
      "│\u001b[0m  12.0 \u001b[0m│\u001b[0m     0.0 \u001b[0m│\u001b[0m     0.0 \u001b[0m│\u001b[0m     0.0 \u001b[0m│\u001b[0m              0.0 \u001b[0m│\u001b[0m\n",
      "│\u001b[0m  13.0 \u001b[0m│\u001b[0m     0.0 \u001b[0m│\u001b[0m     0.0 \u001b[0m│\u001b[0m     0.0 \u001b[0m│\u001b[0m              0.0 \u001b[0m│\u001b[0m\n",
      "│\u001b[0m  14.0 \u001b[0m│\u001b[0m     0.0 \u001b[0m│\u001b[0m     0.0 \u001b[0m│\u001b[0m     0.0 \u001b[0m│\u001b[0m              0.0 \u001b[0m│\u001b[0m\n",
      "│\u001b[0m  15.0 \u001b[0m│\u001b[0m     0.0 \u001b[0m│\u001b[0m     0.0 \u001b[0m│\u001b[0m     0.0 \u001b[0m│\u001b[0m              0.0 \u001b[0m│\u001b[0m\n",
      "│\u001b[0m  16.0 \u001b[0m│\u001b[0m   0.992 \u001b[0m│\u001b[0m     1.0 \u001b[0m│\u001b[0m     0.0 \u001b[0m│\u001b[0m              3.0 \u001b[0m│\u001b[0m\n",
      "│\u001b[0m  17.0 \u001b[0m│\u001b[0m   1.024 \u001b[0m│\u001b[0m     1.0 \u001b[0m│\u001b[0m     0.0 \u001b[0m│\u001b[0m              4.0 \u001b[0m│\u001b[0m\n",
      "│\u001b[0m  18.0 \u001b[0m│\u001b[0m   0.994 \u001b[0m│\u001b[0m     1.0 \u001b[0m│\u001b[0m     0.0 \u001b[0m│\u001b[0m              3.0 \u001b[0m│\u001b[0m\n",
      "│\u001b[0m  19.0 \u001b[0m│\u001b[0m   0.944 \u001b[0m│\u001b[0m     1.0 \u001b[0m│\u001b[0m     0.0 \u001b[0m│\u001b[0m              3.0 \u001b[0m│\u001b[0m\n",
      "│\u001b[0m  20.0 \u001b[0m│\u001b[0m   0.966 \u001b[0m│\u001b[0m     1.0 \u001b[0m│\u001b[0m     0.0 \u001b[0m│\u001b[0m              3.0 \u001b[0m│\u001b[0m\n",
      "│\u001b[0m  21.0 \u001b[0m│\u001b[0m   1.052 \u001b[0m│\u001b[0m     1.0 \u001b[0m│\u001b[0m     0.0 \u001b[0m│\u001b[0m 3.52499999999998 \u001b[0m│\u001b[0m\n",
      "│\u001b[0m  22.0 \u001b[0m│\u001b[0m   0.994 \u001b[0m│\u001b[0m     1.0 \u001b[0m│\u001b[0m     0.0 \u001b[0m│\u001b[0m              3.0 \u001b[0m│\u001b[0m\n",
      "│\u001b[0m  23.0 \u001b[0m│\u001b[0m   0.988 \u001b[0m│\u001b[0m     1.0 \u001b[0m│\u001b[0m     0.0 \u001b[0m│\u001b[0m              3.0 \u001b[0m│\u001b[0m\n",
      "│\u001b[0m  24.0 \u001b[0m│\u001b[0m   0.976 \u001b[0m│\u001b[0m     1.0 \u001b[0m│\u001b[0m     0.0 \u001b[0m│\u001b[0m              3.0 \u001b[0m│\u001b[0m\n",
      "│\u001b[0m  25.0 \u001b[0m│\u001b[0m   1.998 \u001b[0m│\u001b[0m     2.0 \u001b[0m│\u001b[0m     0.0 \u001b[0m│\u001b[0m              5.0 \u001b[0m│\u001b[0m\n",
      "│\u001b[0m  26.0 \u001b[0m│\u001b[0m    1.97 \u001b[0m│\u001b[0m     2.0 \u001b[0m│\u001b[0m     0.0 \u001b[0m│\u001b[0m              5.0 \u001b[0m│\u001b[0m\n",
      "│\u001b[0m  27.0 \u001b[0m│\u001b[0m   2.006 \u001b[0m│\u001b[0m     2.0 \u001b[0m│\u001b[0m     0.0 \u001b[0m│\u001b[0m              5.0 \u001b[0m│\u001b[0m\n",
      "│\u001b[0m  28.0 \u001b[0m│\u001b[0m    1.91 \u001b[0m│\u001b[0m     2.0 \u001b[0m│\u001b[0m     0.0 \u001b[0m│\u001b[0m              5.0 \u001b[0m│\u001b[0m\n",
      "│\u001b[0m  29.0 \u001b[0m│\u001b[0m   2.898 \u001b[0m│\u001b[0m     3.0 \u001b[0m│\u001b[0m     0.0 \u001b[0m│\u001b[0m              7.0 \u001b[0m│\u001b[0m\n",
      "│\u001b[0m  30.0 \u001b[0m│\u001b[0m   3.048 \u001b[0m│\u001b[0m     3.0 \u001b[0m│\u001b[0m     0.0 \u001b[0m│\u001b[0m              7.0 \u001b[0m│\u001b[0m\n",
      "│\u001b[0m  31.0 \u001b[0m│\u001b[0m   2.922 \u001b[0m│\u001b[0m     3.0 \u001b[0m│\u001b[0m     0.0 \u001b[0m│\u001b[0m              7.0 \u001b[0m│\u001b[0m\n",
      "│\u001b[0m  32.0 \u001b[0m│\u001b[0m    4.02 \u001b[0m│\u001b[0m     4.0 \u001b[0m│\u001b[0m     1.0 \u001b[0m│\u001b[0m              9.0 \u001b[0m│\u001b[0m\n",
      "│\u001b[0m  33.0 \u001b[0m│\u001b[0m    4.14 \u001b[0m│\u001b[0m     4.0 \u001b[0m│\u001b[0m     1.0 \u001b[0m│\u001b[0m              9.0 \u001b[0m│\u001b[0m\n",
      "│\u001b[0m  34.0 \u001b[0m│\u001b[0m   5.032 \u001b[0m│\u001b[0m     5.0 \u001b[0m│\u001b[0m     1.0 \u001b[0m│\u001b[0m             10.0 \u001b[0m│\u001b[0m\n",
      "│\u001b[0m  35.0 \u001b[0m│\u001b[0m    5.98 \u001b[0m│\u001b[0m     6.0 \u001b[0m│\u001b[0m     2.0 \u001b[0m│\u001b[0m             11.0 \u001b[0m│\u001b[0m\n",
      "│\u001b[0m  36.0 \u001b[0m│\u001b[0m   7.124 \u001b[0m│\u001b[0m     7.0 \u001b[0m│\u001b[0m     2.0 \u001b[0m│\u001b[0m             13.0 \u001b[0m│\u001b[0m\n",
      "│\u001b[0m  37.0 \u001b[0m│\u001b[0m   7.196 \u001b[0m│\u001b[0m     7.0 \u001b[0m│\u001b[0m     2.0 \u001b[0m│\u001b[0m             13.0 \u001b[0m│\u001b[0m\n",
      "│\u001b[0m  38.0 \u001b[0m│\u001b[0m   8.132 \u001b[0m│\u001b[0m     8.0 \u001b[0m│\u001b[0m     3.0 \u001b[0m│\u001b[0m             14.0 \u001b[0m│\u001b[0m\n",
      "│\u001b[0m  39.0 \u001b[0m│\u001b[0m  10.214 \u001b[0m│\u001b[0m    10.0 \u001b[0m│\u001b[0m     4.0 \u001b[0m│\u001b[0m             17.0 \u001b[0m│\u001b[0m\n",
      "│\u001b[0m  40.0 \u001b[0m│\u001b[0m  10.858 \u001b[0m│\u001b[0m    11.0 \u001b[0m│\u001b[0m     5.0 \u001b[0m│\u001b[0m             18.0 \u001b[0m│\u001b[0m\n",
      "│\u001b[0m  41.0 \u001b[0m│\u001b[0m   11.95 \u001b[0m│\u001b[0m    12.0 \u001b[0m│\u001b[0m     5.0 \u001b[0m│\u001b[0m             21.0 \u001b[0m│\u001b[0m\n",
      "│\u001b[0m  42.0 \u001b[0m│\u001b[0m  14.406 \u001b[0m│\u001b[0m    14.0 \u001b[0m│\u001b[0m     6.0 \u001b[0m│\u001b[0m           24.525 \u001b[0m│\u001b[0m\n",
      "│\u001b[0m  43.0 \u001b[0m│\u001b[0m   15.87 \u001b[0m│\u001b[0m    16.0 \u001b[0m│\u001b[0m     7.0 \u001b[0m│\u001b[0m             27.0 \u001b[0m│\u001b[0m\n",
      "│\u001b[0m  44.0 \u001b[0m│\u001b[0m  18.242 \u001b[0m│\u001b[0m    18.0 \u001b[0m│\u001b[0m     8.0 \u001b[0m│\u001b[0m             32.0 \u001b[0m│\u001b[0m\n",
      "│\u001b[0m  45.0 \u001b[0m│\u001b[0m  20.052 \u001b[0m│\u001b[0m    20.0 \u001b[0m│\u001b[0m     8.0 \u001b[0m│\u001b[0m             37.0 \u001b[0m│\u001b[0m\n",
      "│\u001b[0m  46.0 \u001b[0m│\u001b[0m  22.754 \u001b[0m│\u001b[0m    22.0 \u001b[0m│\u001b[0m     9.0 \u001b[0m│\u001b[0m             40.0 \u001b[0m│\u001b[0m\n",
      "│\u001b[0m  47.0 \u001b[0m│\u001b[0m  26.352 \u001b[0m│\u001b[0m    26.0 \u001b[0m│\u001b[0m    11.0 \u001b[0m│\u001b[0m           44.525 \u001b[0m│\u001b[0m\n",
      "│\u001b[0m  48.0 \u001b[0m│\u001b[0m  30.598 \u001b[0m│\u001b[0m    29.0 \u001b[0m│\u001b[0m    14.0 \u001b[0m│\u001b[0m             55.0 \u001b[0m│\u001b[0m\n",
      "│\u001b[0m  49.0 \u001b[0m│\u001b[0m  33.578 \u001b[0m│\u001b[0m    32.0 \u001b[0m│\u001b[0m    15.0 \u001b[0m│\u001b[0m             59.0 \u001b[0m│\u001b[0m\n",
      "│\u001b[0m  50.0 \u001b[0m│\u001b[0m  37.834 \u001b[0m│\u001b[0m    37.0 \u001b[0m│\u001b[0m    16.0 \u001b[0m│\u001b[0m           63.525 \u001b[0m│\u001b[0m\n",
      "│\u001b[0m  51.0 \u001b[0m│\u001b[0m  42.494 \u001b[0m│\u001b[0m    40.5 \u001b[0m│\u001b[0m    19.0 \u001b[0m│\u001b[0m             77.0 \u001b[0m│\u001b[0m\n",
      "│\u001b[0m  52.0 \u001b[0m│\u001b[0m  50.222 \u001b[0m│\u001b[0m    49.0 \u001b[0m│\u001b[0m    21.0 \u001b[0m│\u001b[0m            89.05 \u001b[0m│\u001b[0m\n",
      "│\u001b[0m  53.0 \u001b[0m│\u001b[0m  56.968 \u001b[0m│\u001b[0m    54.0 \u001b[0m│\u001b[0m  27.475 \u001b[0m│\u001b[0m           98.525 \u001b[0m│\u001b[0m\n",
      "│\u001b[0m  54.0 \u001b[0m│\u001b[0m  63.956 \u001b[0m│\u001b[0m    61.0 \u001b[0m│\u001b[0m    29.0 \u001b[0m│\u001b[0m          119.525 \u001b[0m│\u001b[0m\n",
      "│\u001b[0m  55.0 \u001b[0m│\u001b[0m  71.486 \u001b[0m│\u001b[0m    69.0 \u001b[0m│\u001b[0m    31.0 \u001b[0m│\u001b[0m            117.0 \u001b[0m│\u001b[0m\n",
      "│\u001b[0m  56.0 \u001b[0m│\u001b[0m  81.906 \u001b[0m│\u001b[0m    79.0 \u001b[0m│\u001b[0m  34.475 \u001b[0m│\u001b[0m            145.0 \u001b[0m│\u001b[0m\n",
      "│\u001b[0m  57.0 \u001b[0m│\u001b[0m   93.83 \u001b[0m│\u001b[0m    90.0 \u001b[0m│\u001b[0m  42.475 \u001b[0m│\u001b[0m           167.05 \u001b[0m│\u001b[0m\n",
      "│\u001b[0m  58.0 \u001b[0m│\u001b[0m 106.376 \u001b[0m│\u001b[0m   103.5 \u001b[0m│\u001b[0m   44.95 \u001b[0m│\u001b[0m          180.525 \u001b[0m│\u001b[0m\n",
      "│\u001b[0m  59.0 \u001b[0m│\u001b[0m 116.318 \u001b[0m│\u001b[0m   115.0 \u001b[0m│\u001b[0m   51.95 \u001b[0m│\u001b[0m            202.1 \u001b[0m│\u001b[0m\n",
      "│\u001b[0m  60.0 \u001b[0m│\u001b[0m 135.478 \u001b[0m│\u001b[0m   133.0 \u001b[0m│\u001b[0m    61.0 \u001b[0m│\u001b[0m            234.2 \u001b[0m│\u001b[0m\n",
      "│\u001b[0m  61.0 \u001b[0m│\u001b[0m 151.802 \u001b[0m│\u001b[0m   144.5 \u001b[0m│\u001b[0m  68.475 \u001b[0m│\u001b[0m           285.05 \u001b[0m│\u001b[0m\n",
      "│\u001b[0m  62.0 \u001b[0m│\u001b[0m   170.7 \u001b[0m│\u001b[0m   166.0 \u001b[0m│\u001b[0m    73.0 \u001b[0m│\u001b[0m          295.625 \u001b[0m│\u001b[0m\n",
      "│\u001b[0m  63.0 \u001b[0m│\u001b[0m 198.278 \u001b[0m│\u001b[0m   193.5 \u001b[0m│\u001b[0m   82.95 \u001b[0m│\u001b[0m           339.05 \u001b[0m│\u001b[0m\n",
      "│\u001b[0m  64.0 \u001b[0m│\u001b[0m 222.812 \u001b[0m│\u001b[0m   216.5 \u001b[0m│\u001b[0m 101.425 \u001b[0m│\u001b[0m           369.05 \u001b[0m│\u001b[0m\n",
      "│\u001b[0m  65.0 \u001b[0m│\u001b[0m  247.72 \u001b[0m│\u001b[0m   236.5 \u001b[0m│\u001b[0m 113.425 \u001b[0m│\u001b[0m          413.725 \u001b[0m│\u001b[0m\n",
      "│\u001b[0m  66.0 \u001b[0m│\u001b[0m  286.81 \u001b[0m│\u001b[0m   270.0 \u001b[0m│\u001b[0m 130.375 \u001b[0m│\u001b[0m           518.05 \u001b[0m│\u001b[0m\n",
      "│\u001b[0m  67.0 \u001b[0m│\u001b[0m  325.27 \u001b[0m│\u001b[0m   317.5 \u001b[0m│\u001b[0m   144.9 \u001b[0m│\u001b[0m            558.1 \u001b[0m│\u001b[0m\n",
      "│\u001b[0m  68.0 \u001b[0m│\u001b[0m 359.882 \u001b[0m│\u001b[0m   354.5 \u001b[0m│\u001b[0m 161.475 \u001b[0m│\u001b[0m           599.15 \u001b[0m│\u001b[0m\n",
      "│\u001b[0m  69.0 \u001b[0m│\u001b[0m 424.014 \u001b[0m│\u001b[0m   405.0 \u001b[0m│\u001b[0m 185.475 \u001b[0m│\u001b[0m            807.0 \u001b[0m│\u001b[0m\n",
      "│\u001b[0m  70.0 \u001b[0m│\u001b[0m 475.854 \u001b[0m│\u001b[0m   463.0 \u001b[0m│\u001b[0m   216.0 \u001b[0m│\u001b[0m          814.775 \u001b[0m│\u001b[0m\n",
      "│\u001b[0m  71.0 \u001b[0m│\u001b[0m 526.742 \u001b[0m│\u001b[0m   512.0 \u001b[0m│\u001b[0m   227.0 \u001b[0m│\u001b[0m          956.875 \u001b[0m│\u001b[0m\n",
      "│\u001b[0m  72.0 \u001b[0m│\u001b[0m 616.032 \u001b[0m│\u001b[0m   588.0 \u001b[0m│\u001b[0m 281.475 \u001b[0m│\u001b[0m           1102.5 \u001b[0m│\u001b[0m\n",
      "└\u001b[0m───────\u001b[0m┴\u001b[0m─────────\u001b[0m┴\u001b[0m─────────\u001b[0m┴\u001b[0m─────────\u001b[0m┴\u001b[0m──────────────────\u001b[0m┘\u001b[0m\n"
     ]
    }
   ],
   "source": [
    "inc = CSV.read(\"../data/results_feb6_paperv2/baseline_incidence.csv\", datarow=2)\n",
    "pretty_table(inc, crop=:none)"
   ]
  },
  {
   "cell_type": "code",
   "execution_count": 21,
   "metadata": {},
   "outputs": [
    {
     "name": "stdout",
     "output_type": "stream",
     "text": [
      "5144.964\n",
      "[4299.65, 6071.15]\n",
      "6456.666\n",
      "[5423.225, 7587.999999999999]\n",
      "25876.674\n",
      "[21599.6, 29988.25]\n",
      "51868.838\n",
      "[42735.55, 60717.25]\n"
     ]
    }
   ],
   "source": [
    "\n",
    "for x in (\"baseline\", \"ur20\", \"ur50\", \"ur90\")\n",
    "    finalsize = CSV.read(\"../data/results_feb6_paperv2/$(x)_finalsize.csv\", datarow=2, header=[\"seed\", \"jan29\", \"feb10\"])\n",
    "    println(mean(finalsize.feb10))\n",
    "    println(quantile(finalsize.feb10, [0.025, 0.975]))\n",
    "    #println(quantile(finalsize[:, Symbol(\"final.size\")], 0.975))    \n",
    "end\n"
   ]
  },
  {
   "cell_type": "code",
   "execution_count": 16,
   "metadata": {},
   "outputs": [
    {
     "name": "stdout",
     "output_type": "stream",
     "text": [
      "4939.0\n",
      "7100.674999999999\n"
     ]
    }
   ],
   "source": []
  },
  {
   "cell_type": "code",
   "execution_count": null,
   "metadata": {},
   "outputs": [],
   "source": []
  }
 ],
 "metadata": {
  "kernelspec": {
   "display_name": "Julia 1.3.0",
   "language": "julia",
   "name": "julia-1.3"
  },
  "language_info": {
   "file_extension": ".jl",
   "mimetype": "application/julia",
   "name": "julia",
   "version": "1.3.0"
  }
 },
 "nbformat": 4,
 "nbformat_minor": 4
}
